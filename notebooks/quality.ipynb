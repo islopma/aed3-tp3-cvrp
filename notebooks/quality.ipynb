{
 "cells": [
  {
   "cell_type": "code",
   "execution_count": 1,
   "metadata": {},
   "outputs": [],
   "source": [
    "import numpy as np\n",
    "import matplotlib.pyplot as plt\n",
    "import os\n",
    "import subprocess\n",
    "import re\n",
    "import seaborn as sns"
   ]
  },
  {
   "cell_type": "code",
   "execution_count": 2,
   "metadata": {},
   "outputs": [],
   "source": [
    "plt.rcParams['figure.figsize'] = 10, 6\n",
    "plt.rcParams['savefig.transparent'] = True"
   ]
  },
  {
   "cell_type": "code",
   "execution_count": 3,
   "metadata": {},
   "outputs": [],
   "source": [
    "nbfolder = get_ipython().starting_dir\n",
    "def path(*xs):\n",
    "    return os.path.join(nbfolder, '..', *xs)"
   ]
  },
  {
   "cell_type": "markdown",
   "metadata": {},
   "source": [
    "### Running algorithm"
   ]
  },
  {
   "cell_type": "code",
   "execution_count": 16,
   "metadata": {},
   "outputs": [],
   "source": [
    "instances = ['A-n32-k5','A-n33-k5','A-n34-k5','A-n36-k5','A-n37-k5','A-n38-k5','A-n39-k6',\\\n",
    "             'A-n44-k6','A-n45-k6','A-n46-k7','A-n48-k7','A-n53-k7','A-n54-k7','A-n55-k9',\\\n",
    "             'A-n60-k9','A-n61-k9','A-n62-k8','A-n63-k10','A-n64-k9','A-n65-k9','A-n69-k9',\\\n",
    "             'A-n80-k10']\n",
    "executables = ['simanneal', 'cfrs', 'cfrs2', 'closest', 'savings']\n",
    "executable = 'cfrs'"
   ]
  },
  {
   "cell_type": "code",
   "execution_count": 17,
   "metadata": {},
   "outputs": [],
   "source": [
    "instances = [x[:-4] for x in os.listdir(path('instances2')) if x.endswith('.vrp')]"
   ]
  },
  {
   "cell_type": "code",
   "execution_count": 18,
   "metadata": {},
   "outputs": [],
   "source": [
    "os.makedirs(path('out'), exist_ok=True)"
   ]
  },
  {
   "cell_type": "code",
   "execution_count": 20,
   "metadata": {},
   "outputs": [],
   "source": [
    "for instance in instances:\n",
    "    filename_in = path('instances', instance+'.vrp')\n",
    "    filename_out = path('out', 'q-'+instance+'-'+executable+'.txt')\n",
    "    with open(filename_in, 'r') as file_in:\n",
    "        with open(filename_out, 'w') as file_out:\n",
    "            p = subprocess.Popen(path('bin', executable), stdin=file_in, stdout=file_out)"
   ]
  },
  {
   "cell_type": "markdown",
   "metadata": {},
   "source": [
    "### Reading Input"
   ]
  },
  {
   "cell_type": "code",
   "execution_count": 23,
   "metadata": {},
   "outputs": [
    {
     "name": "stdout",
     "output_type": "stream",
     "text": [
      "/home/alfredo/proyectos/facultad/Algo33/tp3/aed3-tp3-cvrp/notebooks/../instances/CMT\\Christofides_9.vrp\n"
     ]
    },
    {
     "ename": "IndexError",
     "evalue": "list index out of range",
     "output_type": "error",
     "traceback": [
      "\u001b[0;31m---------------------------------------------------------------------------\u001b[0m",
      "\u001b[0;31mIndexError\u001b[0m                                Traceback (most recent call last)",
      "\u001b[0;32m<ipython-input-23-8f725cd6a24e>\u001b[0m in \u001b[0;36m<module>\u001b[0;34m()\u001b[0m\n\u001b[1;32m      5\u001b[0m     \u001b[0;32mwith\u001b[0m \u001b[0mopen\u001b[0m\u001b[0;34m(\u001b[0m\u001b[0mfilename_in\u001b[0m\u001b[0;34m,\u001b[0m \u001b[0;34m'r'\u001b[0m\u001b[0;34m)\u001b[0m \u001b[0;32mas\u001b[0m \u001b[0mfile_in\u001b[0m\u001b[0;34m:\u001b[0m\u001b[0;34m\u001b[0m\u001b[0m\n\u001b[1;32m      6\u001b[0m         \u001b[0mtext\u001b[0m \u001b[0;34m=\u001b[0m \u001b[0mfile_in\u001b[0m\u001b[0;34m.\u001b[0m\u001b[0mread\u001b[0m\u001b[0;34m(\u001b[0m\u001b[0;34m)\u001b[0m\u001b[0;34m\u001b[0m\u001b[0m\n\u001b[0;32m----> 7\u001b[0;31m         \u001b[0mtarget_value\u001b[0m\u001b[0;34m[\u001b[0m\u001b[0minstance\u001b[0m\u001b[0;34m]\u001b[0m \u001b[0;34m=\u001b[0m \u001b[0mfloat\u001b[0m\u001b[0;34m(\u001b[0m\u001b[0mre\u001b[0m\u001b[0;34m.\u001b[0m\u001b[0mfindall\u001b[0m\u001b[0;34m(\u001b[0m\u001b[0;34m'Optimal value: ([^)]*)'\u001b[0m\u001b[0;34m,\u001b[0m \u001b[0mtext\u001b[0m\u001b[0;34m)\u001b[0m\u001b[0;34m[\u001b[0m\u001b[0;36m0\u001b[0m\u001b[0;34m]\u001b[0m\u001b[0;34m)\u001b[0m\u001b[0;34m\u001b[0m\u001b[0m\n\u001b[0m",
      "\u001b[0;31mIndexError\u001b[0m: list index out of range"
     ]
    }
   ],
   "source": [
    "target_value = {}\n",
    "for instance in instances:\n",
    "    filename_in = path('instances', instance+'.vrp')\n",
    "    print(filename_in)\n",
    "    with open(filename_in, 'r') as file_in:\n",
    "        text = file_in.read()\n",
    "        target_value[instance] = float(re.findall('Optimal value: ([^)]*)', text)[0])"
   ]
  },
  {
   "cell_type": "markdown",
   "metadata": {},
   "source": [
    "### Reading Output"
   ]
  },
  {
   "cell_type": "code",
   "execution_count": 16,
   "metadata": {},
   "outputs": [],
   "source": [
    "def get_output_times(algo):\n",
    "    res = {}\n",
    "    for instance in instances:\n",
    "        try:\n",
    "            filename_out = path('out', 'q-'+instance+'-'+algo+'.txt')\n",
    "            with open(filename_out, 'r') as file_in:\n",
    "                last_line = float(file_in.read().strip().split('\\n')[-1])\n",
    "#                 print(last_line)\n",
    "                res[instance] = float(last_line)\n",
    "        except:\n",
    "            print('err on instance', instance, 'algo:', algo)\n",
    "    return res"
   ]
  },
  {
   "cell_type": "code",
   "execution_count": 18,
   "metadata": {},
   "outputs": [
    {
     "name": "stdout",
     "output_type": "stream",
     "text": [
      "err on instance A-n61-k9 algo: simanneal\n",
      "err on instance A-n62-k8 algo: simanneal\n",
      "err on instance A-n65-k9 algo: simanneal\n"
     ]
    }
   ],
   "source": [
    "output_timess = {e: get_output_times(e) for e in executables}"
   ]
  },
  {
   "cell_type": "code",
   "execution_count": 13,
   "metadata": {},
   "outputs": [
    {
     "name": "stdout",
     "output_type": "stream",
     "text": [
      "err on instance A-n61-k9\n",
      "err on instance A-n62-k8\n",
      "err on instance A-n65-k9\n"
     ]
    }
   ],
   "source": [
    "algo_value = get_output_times(executable)"
   ]
  },
  {
   "cell_type": "markdown",
   "metadata": {},
   "source": [
    "### Porcentual Difference"
   ]
  },
  {
   "cell_type": "code",
   "execution_count": 24,
   "metadata": {},
   "outputs": [],
   "source": [
    "def get_diferences(algo_value):\n",
    "    diferences = []\n",
    "    for instance in instances:\n",
    "        if instance in algo_value:\n",
    "            expected, got = target_value[instance], algo_value[instance]\n",
    "#             print('instance: {}, expected: {}, got: {}, percentaje: {}'.format(\n",
    "#                 instance, expected, got, got/expected - 1\n",
    "#             ))\n",
    "            diferences.append((got/expected - 1)*100)\n",
    "    return diferences\n",
    "\n",
    "diferences = get_diferences(algo_value)"
   ]
  },
  {
   "cell_type": "code",
   "execution_count": 51,
   "metadata": {},
   "outputs": [
    {
     "data": {
      "image/png": "[encoded data removed]",
      "text/plain": [
       "<matplotlib.figure.Figure at 0x7f494778b320>"
      ]
     },
     "metadata": {},
     "output_type": "display_data"
    }
   ],
   "source": [
    "for e, out_times in output_timess.items():\n",
    "    diferences = get_diferences(out_times)\n",
    "#     plt.hist(diferences, alpha=0.5, label=e)\n",
    "    label = '{} (media: {:.2f})'.format(e, np.mean(diferences))\n",
    "    sns.kdeplot(diferences, label=label, shade=True, bw=.4)\n",
    "    plt.title('Diferencia entre valor real y obtenido (%)')\n",
    "    \n",
    "plt.legend()\n",
    "plt.ylabel('Proporción de casos')\n",
    "plt.xlabel('Porcentaje por sobre el valor real')\n",
    "plt.xlim(xmin=0)\n",
    "\n",
    "plt.savefig(path('images', 'hist-all.eps'.format(executable)), )"
   ]
  },
  {
   "cell_type": "code",
   "execution_count": null,
   "metadata": {},
   "outputs": [],
   "source": []
  },
  {
   "cell_type": "code",
   "execution_count": null,
   "metadata": {},
   "outputs": [],
   "source": []
  }
 ],
 "metadata": {
  "kernelspec": {
   "display_name": "Python 3",
   "language": "python",
   "name": "python3"
  },
  "language_info": {
   "codemirror_mode": {
    "name": "ipython",
    "version": 3
   },
   "file_extension": ".py",
   "mimetype": "text/x-python",
   "name": "python",
   "nbconvert_exporter": "python",
   "pygments_lexer": "ipython3",
   "version": "3.5.2"
  }
 },
 "nbformat": 4,
 "nbformat_minor": 2
}
