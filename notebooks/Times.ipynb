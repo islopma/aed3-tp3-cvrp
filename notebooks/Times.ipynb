{
 "cells": [
  {
   "cell_type": "code",
   "execution_count": 1,
   "metadata": {},
   "outputs": [],
   "source": [
    "import numpy as np\n",
    "import matplotlib.pyplot as plt\n",
    "import os\n",
    "from subprocess import run, PIPE"
   ]
  },
  {
   "cell_type": "code",
   "execution_count": 2,
   "metadata": {},
   "outputs": [],
   "source": [
    "nbfolder = get_ipython().starting_dir\n",
    "def path(*xs):\n",
    "    return os.path.join(nbfolder, '..', *xs)"
   ]
  },
  {
   "cell_type": "markdown",
   "metadata": {},
   "source": [
    "### Running algorithm"
   ]
  },
  {
   "cell_type": "code",
   "execution_count": 3,
   "metadata": {},
   "outputs": [],
   "source": [
    "instances = ['A-n32-k5','A-n33-k5','A-n34-k5','A-n36-k5','A-n37-k5','A-n38-k5','A-n39-k6',\\\n",
    "             'A-n44-k6','A-n45-k6','A-n46-k7','A-n48-k7','A-n53-k7','A-n54-k7','A-n55-k9',\\\n",
    "             'A-n60-k9','A-n61-k9','A-n62-k8','A-n63-k10','A-n64-k9','A-n65-k9','A-n69-k9',\\\n",
    "             'A-n80-k10']\n",
    "executable = 'savings_time'\n",
    "repeats = 20"
   ]
  },
  {
   "cell_type": "code",
   "execution_count": 4,
   "metadata": {},
   "outputs": [],
   "source": [
    "os.makedirs(path('out'), exist_ok=True)\n",
    "\n",
    "filenames_in = [path('instances', instance+'.vrp') for instance in instances]"
   ]
  },
  {
   "cell_type": "code",
   "execution_count": 5,
   "metadata": {},
   "outputs": [],
   "source": [
    "times = []\n",
    "for filename_in in filenames_in:\n",
    "    total_time = 0\n",
    "    for r in range(repeats):\n",
    "        with open(filename_in, 'r') as file_in:\n",
    "            output = run(path('bin', executable), check=True, text=True, stdin=file_in, stdout=PIPE).stdout\n",
    "            total_time += int(output)\n",
    "    time = total_time/repeats\n",
    "    times.append(time)"
   ]
  },
  {
   "cell_type": "markdown",
   "metadata": {},
   "source": [
    "### Reading Input"
   ]
  },
  {
   "cell_type": "code",
   "execution_count": 6,
   "metadata": {},
   "outputs": [],
   "source": [
    "dimensions = []\n",
    "for filename_in in filenames_in:\n",
    "    with open(filename_in, 'r') as file_in:\n",
    "        lines_in = [s.strip() for s in file_in.readlines()]\n",
    "        dimension = int(lines_in[3].split()[-1:][0])\n",
    "        dimensions.append(dimension)"
   ]
  },
  {
   "cell_type": "markdown",
   "metadata": {},
   "source": [
    "### Plotting Solution"
   ]
  },
  {
   "cell_type": "code",
   "execution_count": 7,
   "metadata": {},
   "outputs": [
    {
     "data": {
      "text/plain": [
       "Text(0,0.5,'Time(ns)')"
      ]
     },
     "execution_count": 7,
     "metadata": {},
     "output_type": "execute_result"
    },
    {
     "data": {
      "image/png": "[encoded data removed]",
      "text/plain": [
       "<Figure size 432x288 with 1 Axes>"
      ]
     },
     "metadata": {
      "needs_background": "light"
     },
     "output_type": "display_data"
    }
   ],
   "source": [
    "plt.plot(dimensions, times)\n",
    "plt.xlabel('n')\n",
    "plt.ylabel('Time(ns)')"
   ]
  }
 ],
 "metadata": {
  "kernelspec": {
   "display_name": "Python 3",
   "language": "python",
   "name": "python3"
  },
  "language_info": {
   "codemirror_mode": {
    "name": "ipython",
    "version": 3
   },
   "file_extension": ".py",
   "mimetype": "text/x-python",
   "name": "python",
   "nbconvert_exporter": "python",
   "pygments_lexer": "ipython3",
   "version": "3.7.0"
  }
 },
 "nbformat": 4,
 "nbformat_minor": 2
}
